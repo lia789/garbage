{
 "cells": [
  {
   "cell_type": "code",
   "execution_count": 1,
   "id": "e0b762a0-6c6c-48da-b7ad-81dc8d18ce1e",
   "metadata": {},
   "outputs": [],
   "source": [
    "import time\n",
    "from random import randint\n",
    "from parsel import Selector\n",
    "\n",
    "from selenium import webdriver\n",
    "from selenium.webdriver.chrome.options import Options\n",
    "from webdriver_manager.chrome import ChromeDriverManager\n",
    "\n",
    "from selenium.webdriver.common.proxy import Proxy, ProxyType\n",
    "from selenium.webdriver.common.desired_capabilities import DesiredCapabilities\n",
    "\n",
    "from selenium.webdriver.common.keys import Keys\n",
    "\n",
    "from selenium.webdriver.common.by import By\n",
    "from selenium.webdriver.support.ui import WebDriverWait\n",
    "from selenium.webdriver.support import expected_conditions as EC"
   ]
  },
  {
   "cell_type": "code",
   "execution_count": 2,
   "id": "747a2b30-1820-4c00-b888-eee03658d1a6",
   "metadata": {},
   "outputs": [],
   "source": [
    "# Proxy Code\n",
    "headless_proxy = \"localhost:3128\"\n",
    "proxy = Proxy({\n",
    "    'proxyType': ProxyType.MANUAL,\n",
    "    'httpProxy': headless_proxy,\n",
    "    'ftpProxy' : headless_proxy,\n",
    "    'sslProxy' : headless_proxy,\n",
    "    'noProxy'  : ''\n",
    "})"
   ]
  },
  {
   "cell_type": "code",
   "execution_count": 3,
   "id": "13de8015-79a8-49bc-ac93-3c2ab712d804",
   "metadata": {},
   "outputs": [
    {
     "name": "stderr",
     "output_type": "stream",
     "text": [
      "\n",
      "\n",
      "====== WebDriver manager ======\n",
      "Current google-chrome version is 97.0.4692\n",
      "Get LATEST chromedriver version for 97.0.4692 google-chrome\n",
      "Driver [C:\\Users\\Lia\\.wdm\\drivers\\chromedriver\\win32\\97.0.4692.71\\chromedriver.exe] found in cache\n",
      "C:\\Users\\Lia\\AppData\\Local\\Temp/ipykernel_12536/1505661848.py:9: DeprecationWarning: executable_path has been deprecated, please pass in a Service object\n",
      "  driver = webdriver.Chrome(ChromeDriverManager().install(), desired_capabilities=capabilities, options=options)\n"
     ]
    }
   ],
   "source": [
    "options = Options()\n",
    "options.add_argument('ignore-certificate-errors')\n",
    "options.add_argument(\"--start-maximized\")\n",
    "options.add_argument(\"--headless\")\n",
    "\n",
    "capabilities = dict(DesiredCapabilities.CHROME)\n",
    "proxy.add_to_capabilities(capabilities)\n",
    "\n",
    "driver = webdriver.Chrome(ChromeDriverManager().install(), desired_capabilities=capabilities, options=options)"
   ]
  },
  {
   "cell_type": "code",
   "execution_count": 4,
   "id": "b783a8a1-c01e-469b-b93f-d48cc61872ec",
   "metadata": {
    "tags": []
   },
   "outputs": [
    {
     "name": "stdout",
     "output_type": "stream",
     "text": [
      "======================================\n",
      "<html><head></head><body><pre style=\"word-wrap: break-word; white-space: pre-wrap;\">{\n",
      "  \"origin\": \"154.16.251.27\"\n",
      "}\n",
      "</pre></body></html>\n",
      "===========================================\n"
     ]
    }
   ],
   "source": [
    "driver.get(\"http://httpbin.org/ip\")\n",
    "# driver.get(\"https://docs.zyte.com/smart-proxy-manager/integrations/selenium.html#spm-selenium-integration\")\n",
    "time.sleep(1)\n",
    "print(\"======================================\")\n",
    "print(driver.page_source)\n",
    "print(\"===========================================\")"
   ]
  },
  {
   "cell_type": "code",
   "execution_count": 5,
   "id": "a46b8470-8d74-4a9a-af73-1cf6f6bb5d63",
   "metadata": {},
   "outputs": [],
   "source": [
    "driver.get(\"https://www.zillow.com/homes/Los-Angeles_rb/\")"
   ]
  },
  {
   "cell_type": "code",
   "execution_count": 6,
   "id": "269bdd55-0cb1-44bb-9161-a341cf5e8472",
   "metadata": {},
   "outputs": [
    {
     "data": {
      "text/plain": [
       "'Los Angeles Real Estate - Los Angeles CA Homes For Sale | Zillow'"
      ]
     },
     "execution_count": 6,
     "metadata": {},
     "output_type": "execute_result"
    }
   ],
   "source": [
    "driver.title"
   ]
  },
  {
   "cell_type": "code",
   "execution_count": 7,
   "id": "d38b18ab-2838-4b70-84aa-dea0b0ebcb95",
   "metadata": {
    "tags": []
   },
   "outputs": [
    {
     "name": "stderr",
     "output_type": "stream",
     "text": [
      "C:\\Users\\Lia\\AppData\\Local\\Temp/ipykernel_12536/374708416.py:2: DeprecationWarning: find_element_by_* commands are deprecated. Please use find_element() instead\n",
      "  search_box = driver.find_element_by_xpath('//input[@class=\"react-autosuggest__input\"]')\n"
     ]
    },
    {
     "name": "stdout",
     "output_type": "stream",
     "text": [
      "https://www.zillow.com/b/2435-houston-st-los-angeles-ca-9MLy8R/\n"
     ]
    }
   ],
   "source": [
    "# Base url finder code\n",
    "search_box = driver.find_element_by_xpath('//input[@class=\"react-autosuggest__input\"]')\n",
    "search_box.clear()\n",
    "search_box.send_keys(\"Houston\")\n",
    "search_box.send_keys(Keys.ENTER)\n",
    "time.sleep(2)\n",
    "url = driver.current_url\n",
    "print(url)\n",
    "# CITY_URLS.append(url)"
   ]
  },
  {
   "cell_type": "code",
   "execution_count": 8,
   "id": "6968a8b7-0ed6-4b78-9469-b40f9dabca5c",
   "metadata": {},
   "outputs": [
    {
     "name": "stdout",
     "output_type": "stream",
     "text": [
      "https://www.zillow.com/b/2435-houston-st-los-angeles-ca-9MLy8R/\n"
     ]
    }
   ],
   "source": [
    "url = driver.current_url\n",
    "print(url)"
   ]
  },
  {
   "cell_type": "code",
   "execution_count": 11,
   "id": "68c41bf1-1130-40d4-b7e9-dadf9889a3bd",
   "metadata": {},
   "outputs": [],
   "source": [
    "driver.close()"
   ]
  },
  {
   "cell_type": "code",
   "execution_count": 10,
   "id": "1d2db028-6e4e-44bd-9643-a8ff5d2f694e",
   "metadata": {},
   "outputs": [
    {
     "ename": "SyntaxError",
     "evalue": "invalid syntax (Temp/ipykernel_12536/1865418032.py, line 1)",
     "output_type": "error",
     "traceback": [
      "\u001b[1;36m  File \u001b[1;32m\"C:\\Users\\Lia\\AppData\\Local\\Temp/ipykernel_12536/1865418032.py\"\u001b[1;36m, line \u001b[1;32m1\u001b[0m\n\u001b[1;33m    209.126.91.172\u001b[0m\n\u001b[1;37m           ^\u001b[0m\n\u001b[1;31mSyntaxError\u001b[0m\u001b[1;31m:\u001b[0m invalid syntax\n"
     ]
    }
   ],
   "source": [
    "209.126.91.172"
   ]
  }
 ],
 "metadata": {
  "kernelspec": {
   "display_name": "WorkEnv",
   "language": "python",
   "name": "workenv"
  },
  "language_info": {
   "codemirror_mode": {
    "name": "ipython",
    "version": 3
   },
   "file_extension": ".py",
   "mimetype": "text/x-python",
   "name": "python",
   "nbconvert_exporter": "python",
   "pygments_lexer": "ipython3",
   "version": "3.9.7"
  }
 },
 "nbformat": 4,
 "nbformat_minor": 5
}
