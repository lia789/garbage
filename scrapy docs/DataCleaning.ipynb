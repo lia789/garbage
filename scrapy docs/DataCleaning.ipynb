{
 "cells": [
  {
   "cell_type": "markdown",
   "metadata": {},
   "source": [
    "#### Type of messy raw string data"
   ]
  },
  {
   "cell_type": "code",
   "execution_count": 1,
   "metadata": {},
   "outputs": [],
   "source": [
    "# String manipulation\n",
    "\n",
    "toManyWhiteSpace=\"          To many white spaces        \"\n",
    "rightSideWhiteSpace=\"                   Right side white spaces\"\n",
    "leftSideWhiteSpace=\"Left side white spaces                  \"\n",
    "middleSideWhiteSpace=\"Middle side               white spaces\"\n",
    "\n",
    "stringWithQuotes=\"`This is quotes data`\"\n",
    "\n",
    "stringWithWildCarecter=\"$ String ~with wild`` carecter!\""
   ]
  },
  {
   "cell_type": "code",
   "execution_count": 2,
   "metadata": {},
   "outputs": [],
   "source": [
    "# Number manipulation\n",
    "\n",
    "numberWithString=\"Number with 14545 string\"\n",
    "nuberWithWildString=\"45$\"\n",
    "numberWithSpaces=\"Number with 4 4 57 45 spaces\""
   ]
  },
  {
   "cell_type": "code",
   "execution_count": 3,
   "metadata": {},
   "outputs": [],
   "source": [
    "# Some common data\n",
    "\n",
    "price=\"GBP 4.99\"\n",
    "orderNuber=\"#13057\"\n",
    "orderCount=\"More than 10 available\""
   ]
  },
  {
   "cell_type": "code",
   "execution_count": 4,
   "metadata": {},
   "outputs": [],
   "source": [
    "# Contac info\n",
    "\n",
    "emailFinder=\"This is my email liahabib@gmail.com you can call me. And it is my number 01849855963. You can mail me.\"\n",
    "mobileNumberFinder=\"This is my house number 7845 and this is my mobile 0184855963. It's my oltarnative number 01787940657. You can call me. My time 4.44 to 7 am\""
   ]
  },
  {
   "cell_type": "code",
   "execution_count": 5,
   "metadata": {},
   "outputs": [],
   "source": [
    "# None value\n",
    "\n",
    "nanValue=None\n",
    "notNoteValue=\"Ther is a value\""
   ]
  },
  {
   "cell_type": "code",
   "execution_count": 7,
   "metadata": {},
   "outputs": [],
   "source": [
    "# Name\n",
    "\n",
    "fullName=\"Lia Habib\"\n",
    "fullThreeName=\"Sakib ALL Hasan\"\n",
    "manyNameInOneLine=\"Sakib, Tamim, Liton Das\""
   ]
  },
  {
   "cell_type": "code",
   "execution_count": null,
   "metadata": {},
   "outputs": [],
   "source": []
  }
 ],
 "metadata": {
  "kernelspec": {
   "display_name": "Python 3",
   "language": "python",
   "name": "python3"
  },
  "language_info": {
   "codemirror_mode": {
    "name": "ipython",
    "version": 3
   },
   "file_extension": ".py",
   "mimetype": "text/x-python",
   "name": "python",
   "nbconvert_exporter": "python",
   "pygments_lexer": "ipython3",
   "version": "3.8.5"
  }
 },
 "nbformat": 4,
 "nbformat_minor": 4
}
