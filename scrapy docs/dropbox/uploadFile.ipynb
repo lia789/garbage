{
 "cells": [
  {
   "cell_type": "code",
   "execution_count": 1,
   "metadata": {},
   "outputs": [],
   "source": [
    "from dropbox import Dropbox\n",
    "import dropbox"
   ]
  },
  {
   "cell_type": "code",
   "execution_count": 2,
   "metadata": {},
   "outputs": [],
   "source": [
    "dbx = Dropbox(\"7l8bMWVs2HYAAAAAAAAAAZxxUATrFDh0un-zFoGkNdzob_UR74R08P_lKNnXf18N\")"
   ]
  },
  {
   "cell_type": "code",
   "execution_count": 3,
   "metadata": {
    "collapsed": true,
    "jupyter": {
     "outputs_hidden": true
    }
   },
   "outputs": [
    {
     "name": "stdout",
     "output_type": "stream",
     "text": [
      "FullAccount(account_id='dbid:AAANCt2tl0zegXHRwbN1E40XhE3Pk2hg-vA', account_type=AccountType('basic', None), country='BD', disabled=False, email='pse.coliahabib@gmail.com', email_verified=True, is_paired=False, locale='en', name=Name(abbreviated_name='LH', display_name='Lia Habib', familiar_name='Lia', given_name='Lia', surname='Habib'), profile_photo_url=NOT_SET, referral_link='https://www.dropbox.com/referrals/AADmahSHMuInVSp8SE4IKqkzO-uNG_-PYLU?src=app9-10657616', root_info=UserRootInfo(home_namespace_id='9256258800', root_namespace_id='9256258800'), team=NOT_SET, team_member_id=NOT_SET)\n"
     ]
    }
   ],
   "source": [
    "print(dbx.users_get_current_account())"
   ]
  },
  {
   "cell_type": "code",
   "execution_count": 4,
   "metadata": {},
   "outputs": [],
   "source": [
    "file_from = 'items.csv'\n",
    "file_to = '/ForHeroku/items.csv'"
   ]
  },
  {
   "cell_type": "code",
   "execution_count": 5,
   "metadata": {},
   "outputs": [],
   "source": [
    "with open(file_from, 'rb') as f:\n",
    "    dbx.files_upload(f.read(), file_to, mode=dropbox.files.WriteMode.overwrite)"
   ]
  },
  {
   "cell_type": "code",
   "execution_count": null,
   "metadata": {},
   "outputs": [],
   "source": []
  }
 ],
 "metadata": {
  "kernelspec": {
   "display_name": "Python 3",
   "language": "python",
   "name": "python3"
  },
  "language_info": {
   "codemirror_mode": {
    "name": "ipython",
    "version": 3
   },
   "file_extension": ".py",
   "mimetype": "text/x-python",
   "name": "python",
   "nbconvert_exporter": "python",
   "pygments_lexer": "ipython3",
   "version": "3.8.5"
  }
 },
 "nbformat": 4,
 "nbformat_minor": 4
}
